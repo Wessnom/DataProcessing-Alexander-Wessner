{
 "cells": [
  {
   "cell_type": "code",
   "execution_count": 2,
   "metadata": {},
   "outputs": [],
   "source": [
    "import numpy as np\n",
    "import pandas as pd"
   ]
  },
  {
   "cell_type": "markdown",
   "metadata": {},
   "source": [
    "## Aggregation\n",
    "\n",
    "Data aggregation is the process where raw data is gathered and expressed in a summary form for statistical analysis.\n",
    "\n",
    "For example, raw data can be aggregated over a given time period to provide statistics such as average, minimum, maximum, sum, and count. After the data is aggregated and written to a view or report, you can analyze the aggregated data to gain insights about particular resources or resource groups."
   ]
  },
  {
   "cell_type": "markdown",
   "metadata": {},
   "source": [
    "### Built-in aggregation methods in Pandas\n",
    "An aggregation method a Series of values and returns a single value."
   ]
  },
  {
   "cell_type": "code",
   "execution_count": 3,
   "metadata": {},
   "outputs": [
    {
     "data": {
      "text/plain": [
       "0     6.0\n",
       "1    15.0\n",
       "2     8.0\n",
       "3     NaN\n",
       "4    86.0\n",
       "dtype: float64"
      ]
     },
     "execution_count": 3,
     "metadata": {},
     "output_type": "execute_result"
    }
   ],
   "source": [
    "numbers = pd.Series(np.random.randint(low=1, high=100, size=5))\n",
    "numbers[3] = np.NaN\n",
    "numbers"
   ]
  },
  {
   "cell_type": "code",
   "execution_count": 4,
   "metadata": {},
   "outputs": [
    {
     "name": "stdout",
     "output_type": "stream",
     "text": [
      "numbers.min() = 6.0\n",
      "numbers.max() = 86.0\n",
      "numbers.mean() = 28.75\n",
      "numbers.median() = 11.5\n",
      "numbers.sum() = 115.0\n",
      "numbers.count() = 4\n",
      "numbers.sum() / numbers.count() = 28.75 dvs. mean\n",
      "numbers.mode()[0] = 6.0\n",
      "numbers.size = 5\n"
     ]
    }
   ],
   "source": [
    "# Some of Pandas aggregation methods are:\n",
    "print(f\"{numbers.min() = }\")\n",
    "print(f\"{numbers.max() = }\")\n",
    "print(f\"{numbers.mean() = }\")\n",
    "print(f\"{numbers.median() = }\")\n",
    "print(f\"{numbers.sum() = }\")\n",
    "print(f\"{numbers.count() = }\") # totala antalet värden\n",
    "print(f\"{numbers.sum() / numbers.count() = } dvs. mean\")\n",
    "print(f\"{numbers.mode()[0] = }\")\n",
    "print(f\"{numbers.size = }\") # totala antalet rader"
   ]
  },
  {
   "cell_type": "markdown",
   "metadata": {},
   "source": [
    "### \n",
    "When run on a dataframe (multiple Series) they return a single value for each Series, forming a new Series."
   ]
  },
  {
   "cell_type": "code",
   "execution_count": 5,
   "metadata": {},
   "outputs": [
    {
     "data": {
      "text/html": [
       "<div>\n",
       "<style scoped>\n",
       "    .dataframe tbody tr th:only-of-type {\n",
       "        vertical-align: middle;\n",
       "    }\n",
       "\n",
       "    .dataframe tbody tr th {\n",
       "        vertical-align: top;\n",
       "    }\n",
       "\n",
       "    .dataframe thead th {\n",
       "        text-align: right;\n",
       "    }\n",
       "</style>\n",
       "<table border=\"1\" class=\"dataframe\">\n",
       "  <thead>\n",
       "    <tr style=\"text-align: right;\">\n",
       "      <th></th>\n",
       "      <th>A</th>\n",
       "      <th>B</th>\n",
       "      <th>C</th>\n",
       "      <th>D</th>\n",
       "      <th>E</th>\n",
       "    </tr>\n",
       "  </thead>\n",
       "  <tbody>\n",
       "    <tr>\n",
       "      <th>0</th>\n",
       "      <td>NaN</td>\n",
       "      <td>91</td>\n",
       "      <td>14</td>\n",
       "      <td>NaN</td>\n",
       "      <td>93</td>\n",
       "    </tr>\n",
       "    <tr>\n",
       "      <th>1</th>\n",
       "      <td>36.0</td>\n",
       "      <td>54</td>\n",
       "      <td>64</td>\n",
       "      <td>10.0</td>\n",
       "      <td>88</td>\n",
       "    </tr>\n",
       "    <tr>\n",
       "      <th>2</th>\n",
       "      <td>40.0</td>\n",
       "      <td>81</td>\n",
       "      <td>34</td>\n",
       "      <td>54.0</td>\n",
       "      <td>2</td>\n",
       "    </tr>\n",
       "    <tr>\n",
       "      <th>3</th>\n",
       "      <td>NaN</td>\n",
       "      <td>75</td>\n",
       "      <td>58</td>\n",
       "      <td>NaN</td>\n",
       "      <td>7</td>\n",
       "    </tr>\n",
       "    <tr>\n",
       "      <th>4</th>\n",
       "      <td>44.0</td>\n",
       "      <td>64</td>\n",
       "      <td>30</td>\n",
       "      <td>25.0</td>\n",
       "      <td>9</td>\n",
       "    </tr>\n",
       "  </tbody>\n",
       "</table>\n",
       "</div>"
      ],
      "text/plain": [
       "      A   B   C     D   E\n",
       "0   NaN  91  14   NaN  93\n",
       "1  36.0  54  64  10.0  88\n",
       "2  40.0  81  34  54.0   2\n",
       "3   NaN  75  58   NaN   7\n",
       "4  44.0  64  30  25.0   9"
      ]
     },
     "execution_count": 5,
     "metadata": {},
     "output_type": "execute_result"
    }
   ],
   "source": [
    "numbers_df = pd.DataFrame(np.random.randint(low=1, high=100, size=[5, 5]), columns=[\"A\", \"B\", \"C\", \"D\", \"E\"])\n",
    "numbers_df.loc[[0, 3], [\"A\", \"D\"]]= np.NaN\n",
    "numbers_df"
   ]
  },
  {
   "cell_type": "code",
   "execution_count": 6,
   "metadata": {},
   "outputs": [
    {
     "data": {
      "text/plain": [
       "54.0"
      ]
     },
     "execution_count": 6,
     "metadata": {},
     "output_type": "execute_result"
    }
   ],
   "source": [
    "numbers_df.min() # returnerar minsta värdet baserat på vald axis \"index\"(default) eller \"columns\"\n",
    "numbers_df.min(axis=\"columns\") \n",
    "numbers_df.min(axis=\"columns\").min() # minsta värdet i hela serien\n",
    "numbers_df.median(axis=\"index\").median()\n",
    "numbers_df.median(axis=\"columns\").median()"
   ]
  },
  {
   "cell_type": "code",
   "execution_count": 7,
   "metadata": {},
   "outputs": [
    {
     "data": {
      "text/plain": [
       "0    2\n",
       "1    0\n",
       "2    0\n",
       "3    2\n",
       "4    0\n",
       "dtype: int64"
      ]
     },
     "execution_count": 7,
     "metadata": {},
     "output_type": "execute_result"
    }
   ],
   "source": [
    "# Count null values in each column\n",
    "numbers_df.isna().sum()# kolla om det finns NaN värden, detect missing values\n",
    "numbers_df.isna().sum(axis=\"columns\") "
   ]
  },
  {
   "cell_type": "markdown",
   "metadata": {},
   "source": [
    "### Working with real data"
   ]
  },
  {
   "cell_type": "code",
   "execution_count": 8,
   "metadata": {},
   "outputs": [
    {
     "data": {
      "text/html": [
       "<div>\n",
       "<style scoped>\n",
       "    .dataframe tbody tr th:only-of-type {\n",
       "        vertical-align: middle;\n",
       "    }\n",
       "\n",
       "    .dataframe tbody tr th {\n",
       "        vertical-align: top;\n",
       "    }\n",
       "\n",
       "    .dataframe thead th {\n",
       "        text-align: right;\n",
       "    }\n",
       "</style>\n",
       "<table border=\"1\" class=\"dataframe\">\n",
       "  <thead>\n",
       "    <tr style=\"text-align: right;\">\n",
       "      <th></th>\n",
       "      <th>aspiration</th>\n",
       "      <th>body-style</th>\n",
       "      <th>bore</th>\n",
       "      <th>city-mpg</th>\n",
       "      <th>compression-ratio</th>\n",
       "      <th>curb-weight</th>\n",
       "      <th>drive-wheels</th>\n",
       "      <th>engine-location</th>\n",
       "      <th>engine-size</th>\n",
       "      <th>engine-type</th>\n",
       "      <th>...</th>\n",
       "      <th>make</th>\n",
       "      <th>normalized-losses</th>\n",
       "      <th>num-of-cylinders</th>\n",
       "      <th>num-of-doors</th>\n",
       "      <th>peak-rpm</th>\n",
       "      <th>price</th>\n",
       "      <th>stroke</th>\n",
       "      <th>symboling</th>\n",
       "      <th>wheel-base</th>\n",
       "      <th>width</th>\n",
       "    </tr>\n",
       "  </thead>\n",
       "  <tbody>\n",
       "    <tr>\n",
       "      <th>202</th>\n",
       "      <td>std</td>\n",
       "      <td>sedan</td>\n",
       "      <td>3.58</td>\n",
       "      <td>18</td>\n",
       "      <td>8.8</td>\n",
       "      <td>3012</td>\n",
       "      <td>rwd</td>\n",
       "      <td>front</td>\n",
       "      <td>173</td>\n",
       "      <td>ohcv</td>\n",
       "      <td>...</td>\n",
       "      <td>volvo</td>\n",
       "      <td>95.0</td>\n",
       "      <td>six</td>\n",
       "      <td>four</td>\n",
       "      <td>5500.0</td>\n",
       "      <td>21485.0</td>\n",
       "      <td>2.87</td>\n",
       "      <td>-1</td>\n",
       "      <td>109.1</td>\n",
       "      <td>68.9</td>\n",
       "    </tr>\n",
       "    <tr>\n",
       "      <th>203</th>\n",
       "      <td>turbo</td>\n",
       "      <td>sedan</td>\n",
       "      <td>3.01</td>\n",
       "      <td>26</td>\n",
       "      <td>23.0</td>\n",
       "      <td>3217</td>\n",
       "      <td>rwd</td>\n",
       "      <td>front</td>\n",
       "      <td>145</td>\n",
       "      <td>ohc</td>\n",
       "      <td>...</td>\n",
       "      <td>volvo</td>\n",
       "      <td>95.0</td>\n",
       "      <td>six</td>\n",
       "      <td>four</td>\n",
       "      <td>4800.0</td>\n",
       "      <td>22470.0</td>\n",
       "      <td>3.40</td>\n",
       "      <td>-1</td>\n",
       "      <td>109.1</td>\n",
       "      <td>68.9</td>\n",
       "    </tr>\n",
       "    <tr>\n",
       "      <th>204</th>\n",
       "      <td>turbo</td>\n",
       "      <td>sedan</td>\n",
       "      <td>3.78</td>\n",
       "      <td>19</td>\n",
       "      <td>9.5</td>\n",
       "      <td>3062</td>\n",
       "      <td>rwd</td>\n",
       "      <td>front</td>\n",
       "      <td>141</td>\n",
       "      <td>ohc</td>\n",
       "      <td>...</td>\n",
       "      <td>volvo</td>\n",
       "      <td>95.0</td>\n",
       "      <td>four</td>\n",
       "      <td>four</td>\n",
       "      <td>5400.0</td>\n",
       "      <td>22625.0</td>\n",
       "      <td>3.15</td>\n",
       "      <td>-1</td>\n",
       "      <td>109.1</td>\n",
       "      <td>68.9</td>\n",
       "    </tr>\n",
       "  </tbody>\n",
       "</table>\n",
       "<p>3 rows × 26 columns</p>\n",
       "</div>"
      ],
      "text/plain": [
       "    aspiration body-style  bore  city-mpg  compression-ratio  curb-weight  \\\n",
       "202        std      sedan  3.58        18                8.8         3012   \n",
       "203      turbo      sedan  3.01        26               23.0         3217   \n",
       "204      turbo      sedan  3.78        19                9.5         3062   \n",
       "\n",
       "    drive-wheels engine-location  engine-size engine-type  ...   make  \\\n",
       "202          rwd           front          173        ohcv  ...  volvo   \n",
       "203          rwd           front          145         ohc  ...  volvo   \n",
       "204          rwd           front          141         ohc  ...  volvo   \n",
       "\n",
       "    normalized-losses  num-of-cylinders  num-of-doors  peak-rpm    price  \\\n",
       "202              95.0               six          four    5500.0  21485.0   \n",
       "203              95.0               six          four    4800.0  22470.0   \n",
       "204              95.0              four          four    5400.0  22625.0   \n",
       "\n",
       "    stroke  symboling wheel-base width  \n",
       "202   2.87         -1      109.1  68.9  \n",
       "203   3.40         -1      109.1  68.9  \n",
       "204   3.15         -1      109.1  68.9  \n",
       "\n",
       "[3 rows x 26 columns]"
      ]
     },
     "execution_count": 8,
     "metadata": {},
     "output_type": "execute_result"
    }
   ],
   "source": [
    "autos = pd.read_json(\"../Data/autos.json\")\n",
    "autos.tail(3)"
   ]
  },
  {
   "cell_type": "code",
   "execution_count": 9,
   "metadata": {},
   "outputs": [
    {
     "data": {
      "text/plain": [
       "13207.129353233831"
      ]
     },
     "execution_count": 9,
     "metadata": {},
     "output_type": "execute_result"
    }
   ],
   "source": [
    "autos[\"price\"].mean()"
   ]
  },
  {
   "cell_type": "code",
   "execution_count": 10,
   "metadata": {},
   "outputs": [
    {
     "data": {
      "text/html": [
       "<div>\n",
       "<style scoped>\n",
       "    .dataframe tbody tr th:only-of-type {\n",
       "        vertical-align: middle;\n",
       "    }\n",
       "\n",
       "    .dataframe tbody tr th {\n",
       "        vertical-align: top;\n",
       "    }\n",
       "\n",
       "    .dataframe thead th {\n",
       "        text-align: right;\n",
       "    }\n",
       "</style>\n",
       "<table border=\"1\" class=\"dataframe\">\n",
       "  <thead>\n",
       "    <tr style=\"text-align: right;\">\n",
       "      <th></th>\n",
       "      <th>length</th>\n",
       "      <th>width</th>\n",
       "      <th>height</th>\n",
       "    </tr>\n",
       "  </thead>\n",
       "  <tbody>\n",
       "    <tr>\n",
       "      <th>0</th>\n",
       "      <td>168.8</td>\n",
       "      <td>64.1</td>\n",
       "      <td>48.8</td>\n",
       "    </tr>\n",
       "    <tr>\n",
       "      <th>1</th>\n",
       "      <td>168.8</td>\n",
       "      <td>64.1</td>\n",
       "      <td>48.8</td>\n",
       "    </tr>\n",
       "    <tr>\n",
       "      <th>2</th>\n",
       "      <td>171.2</td>\n",
       "      <td>65.5</td>\n",
       "      <td>52.4</td>\n",
       "    </tr>\n",
       "  </tbody>\n",
       "</table>\n",
       "</div>"
      ],
      "text/plain": [
       "   length  width  height\n",
       "0   168.8   64.1    48.8\n",
       "1   168.8   64.1    48.8\n",
       "2   171.2   65.5    52.4"
      ]
     },
     "execution_count": 10,
     "metadata": {},
     "output_type": "execute_result"
    }
   ],
   "source": [
    "autos[[\"length\", \"width\", \"height\"]].head(3)"
   ]
  },
  {
   "cell_type": "code",
   "execution_count": 11,
   "metadata": {},
   "outputs": [
    {
     "data": {
      "text/plain": [
       "length    188.800000\n",
       "width      67.963636\n",
       "height     56.236364\n",
       "dtype: float64"
      ]
     },
     "execution_count": 11,
     "metadata": {},
     "output_type": "execute_result"
    }
   ],
   "source": [
    "# Running mean() on multiple columns (Dataframe) returns a Series of means.\n",
    "autos[[\"length\", \"width\", \"height\"]].head(3).mean()\n",
    "autos[[\"length\", \"width\", \"height\"]].mean()\n",
    "\n",
    "autos[autos[\"make\"] == \"volvo\"][[\"length\", \"width\", \"height\"]].mean()\n",
    "autos.query(\"make == 'volvo'\")[[\"length\", \"width\", \"height\"]].mean()"
   ]
  },
  {
   "cell_type": "code",
   "execution_count": 12,
   "metadata": {},
   "outputs": [
    {
     "data": {
      "text/plain": [
       "{'bore': dtype('float64'),\n",
       " 'city-mpg': dtype('int64'),\n",
       " 'compression-ratio': dtype('float64'),\n",
       " 'curb-weight': dtype('int64'),\n",
       " 'engine-size': dtype('int64'),\n",
       " 'height': dtype('float64'),\n",
       " 'highway-mpg': dtype('int64'),\n",
       " 'horsepower': dtype('float64'),\n",
       " 'length': dtype('float64'),\n",
       " 'normalized-losses': dtype('float64'),\n",
       " 'peak-rpm': dtype('float64'),\n",
       " 'price': dtype('float64'),\n",
       " 'stroke': dtype('float64'),\n",
       " 'symboling': dtype('int64'),\n",
       " 'wheel-base': dtype('float64'),\n",
       " 'width': dtype('float64')}"
      ]
     },
     "execution_count": 12,
     "metadata": {},
     "output_type": "execute_result"
    }
   ],
   "source": [
    "{col: autos[col].dtype for col in autos.columns if autos[col].dtype in [\"int64\", \"float64\"]} # dictionary comprehension"
   ]
  },
  {
   "cell_type": "markdown",
   "metadata": {},
   "source": [
    "### Multiple aggregation"
   ]
  },
  {
   "cell_type": "code",
   "execution_count": 13,
   "metadata": {},
   "outputs": [
    {
     "data": {
      "text/plain": [
       "['bore',\n",
       " 'city-mpg',\n",
       " 'compression-ratio',\n",
       " 'curb-weight',\n",
       " 'engine-size',\n",
       " 'height',\n",
       " 'highway-mpg',\n",
       " 'horsepower',\n",
       " 'length',\n",
       " 'normalized-losses',\n",
       " 'peak-rpm',\n",
       " 'price',\n",
       " 'stroke',\n",
       " 'symboling',\n",
       " 'wheel-base',\n",
       " 'width']"
      ]
     },
     "execution_count": 13,
     "metadata": {},
     "output_type": "execute_result"
    }
   ],
   "source": [
    "autos[[\"length\", \"width\", \"height\"]].agg([\"min\", \"mean\", \"max\"])\n",
    "# autos.info()\n",
    "[col for col in autos.columns if autos[col].dtype in [\"int64\", \"float64\"]] # list comprehension"
   ]
  },
  {
   "cell_type": "code",
   "execution_count": 14,
   "metadata": {},
   "outputs": [
    {
     "data": {
      "text/html": [
       "<div>\n",
       "<style scoped>\n",
       "    .dataframe tbody tr th:only-of-type {\n",
       "        vertical-align: middle;\n",
       "    }\n",
       "\n",
       "    .dataframe tbody tr th {\n",
       "        vertical-align: top;\n",
       "    }\n",
       "\n",
       "    .dataframe thead th {\n",
       "        text-align: right;\n",
       "    }\n",
       "</style>\n",
       "<table border=\"1\" class=\"dataframe\">\n",
       "  <thead>\n",
       "    <tr style=\"text-align: right;\">\n",
       "      <th></th>\n",
       "      <th>bore</th>\n",
       "      <th>city-mpg</th>\n",
       "      <th>compression-ratio</th>\n",
       "      <th>curb-weight</th>\n",
       "      <th>engine-size</th>\n",
       "      <th>height</th>\n",
       "      <th>highway-mpg</th>\n",
       "      <th>horsepower</th>\n",
       "      <th>length</th>\n",
       "      <th>normalized-losses</th>\n",
       "      <th>peak-rpm</th>\n",
       "      <th>price</th>\n",
       "      <th>stroke</th>\n",
       "      <th>symboling</th>\n",
       "      <th>wheel-base</th>\n",
       "      <th>width</th>\n",
       "    </tr>\n",
       "  </thead>\n",
       "  <tbody>\n",
       "    <tr>\n",
       "      <th>min</th>\n",
       "      <td>2.540000</td>\n",
       "      <td>13.000000</td>\n",
       "      <td>7.000000</td>\n",
       "      <td>1488.000000</td>\n",
       "      <td>61.000000</td>\n",
       "      <td>47.800000</td>\n",
       "      <td>16.00000</td>\n",
       "      <td>48.000000</td>\n",
       "      <td>141.100000</td>\n",
       "      <td>65.0</td>\n",
       "      <td>4150.000000</td>\n",
       "      <td>5118.000000</td>\n",
       "      <td>2.070000</td>\n",
       "      <td>-2.000000</td>\n",
       "      <td>86.600000</td>\n",
       "      <td>60.300000</td>\n",
       "    </tr>\n",
       "    <tr>\n",
       "      <th>mean</th>\n",
       "      <td>3.329751</td>\n",
       "      <td>25.219512</td>\n",
       "      <td>10.142537</td>\n",
       "      <td>2555.565854</td>\n",
       "      <td>126.907317</td>\n",
       "      <td>53.724878</td>\n",
       "      <td>30.75122</td>\n",
       "      <td>104.256158</td>\n",
       "      <td>174.049268</td>\n",
       "      <td>122.0</td>\n",
       "      <td>5125.369458</td>\n",
       "      <td>13207.129353</td>\n",
       "      <td>3.255423</td>\n",
       "      <td>0.834146</td>\n",
       "      <td>98.756585</td>\n",
       "      <td>65.907805</td>\n",
       "    </tr>\n",
       "    <tr>\n",
       "      <th>max</th>\n",
       "      <td>3.940000</td>\n",
       "      <td>49.000000</td>\n",
       "      <td>23.000000</td>\n",
       "      <td>4066.000000</td>\n",
       "      <td>326.000000</td>\n",
       "      <td>59.800000</td>\n",
       "      <td>54.00000</td>\n",
       "      <td>288.000000</td>\n",
       "      <td>208.100000</td>\n",
       "      <td>256.0</td>\n",
       "      <td>6600.000000</td>\n",
       "      <td>45400.000000</td>\n",
       "      <td>4.170000</td>\n",
       "      <td>3.000000</td>\n",
       "      <td>120.900000</td>\n",
       "      <td>72.300000</td>\n",
       "    </tr>\n",
       "  </tbody>\n",
       "</table>\n",
       "</div>"
      ],
      "text/plain": [
       "          bore   city-mpg  compression-ratio  curb-weight  engine-size  \\\n",
       "min   2.540000  13.000000           7.000000  1488.000000    61.000000   \n",
       "mean  3.329751  25.219512          10.142537  2555.565854   126.907317   \n",
       "max   3.940000  49.000000          23.000000  4066.000000   326.000000   \n",
       "\n",
       "         height  highway-mpg  horsepower      length  normalized-losses  \\\n",
       "min   47.800000     16.00000   48.000000  141.100000               65.0   \n",
       "mean  53.724878     30.75122  104.256158  174.049268              122.0   \n",
       "max   59.800000     54.00000  288.000000  208.100000              256.0   \n",
       "\n",
       "         peak-rpm         price    stroke  symboling  wheel-base      width  \n",
       "min   4150.000000   5118.000000  2.070000  -2.000000   86.600000  60.300000  \n",
       "mean  5125.369458  13207.129353  3.255423   0.834146   98.756585  65.907805  \n",
       "max   6600.000000  45400.000000  4.170000   3.000000  120.900000  72.300000  "
      ]
     },
     "execution_count": 14,
     "metadata": {},
     "output_type": "execute_result"
    }
   ],
   "source": [
    "autos[[col for col in autos.columns if autos[col].dtype in [\"int64\", \"float64\"]]].agg([\"min\", \"mean\", \"max\"])"
   ]
  },
  {
   "cell_type": "code",
   "execution_count": 15,
   "metadata": {},
   "outputs": [
    {
     "data": {
      "text/html": [
       "<div>\n",
       "<style scoped>\n",
       "    .dataframe tbody tr th:only-of-type {\n",
       "        vertical-align: middle;\n",
       "    }\n",
       "\n",
       "    .dataframe tbody tr th {\n",
       "        vertical-align: top;\n",
       "    }\n",
       "\n",
       "    .dataframe thead th {\n",
       "        text-align: right;\n",
       "    }\n",
       "</style>\n",
       "<table border=\"1\" class=\"dataframe\">\n",
       "  <thead>\n",
       "    <tr style=\"text-align: right;\">\n",
       "      <th></th>\n",
       "      <th>bore</th>\n",
       "      <th>city-mpg</th>\n",
       "      <th>compression-ratio</th>\n",
       "      <th>curb-weight</th>\n",
       "      <th>engine-size</th>\n",
       "      <th>height</th>\n",
       "      <th>highway-mpg</th>\n",
       "      <th>horsepower</th>\n",
       "      <th>length</th>\n",
       "      <th>normalized-losses</th>\n",
       "      <th>peak-rpm</th>\n",
       "      <th>price</th>\n",
       "      <th>stroke</th>\n",
       "      <th>symboling</th>\n",
       "      <th>wheel-base</th>\n",
       "      <th>width</th>\n",
       "    </tr>\n",
       "  </thead>\n",
       "  <tbody>\n",
       "    <tr>\n",
       "      <th>count</th>\n",
       "      <td>201.000000</td>\n",
       "      <td>205.000000</td>\n",
       "      <td>205.000000</td>\n",
       "      <td>205.000000</td>\n",
       "      <td>205.000000</td>\n",
       "      <td>205.000000</td>\n",
       "      <td>205.000000</td>\n",
       "      <td>203.000000</td>\n",
       "      <td>205.000000</td>\n",
       "      <td>164.000000</td>\n",
       "      <td>203.000000</td>\n",
       "      <td>201.000000</td>\n",
       "      <td>201.000000</td>\n",
       "      <td>205.000000</td>\n",
       "      <td>205.000000</td>\n",
       "      <td>205.000000</td>\n",
       "    </tr>\n",
       "    <tr>\n",
       "      <th>mean</th>\n",
       "      <td>3.329751</td>\n",
       "      <td>25.219512</td>\n",
       "      <td>10.142537</td>\n",
       "      <td>2555.565854</td>\n",
       "      <td>126.907317</td>\n",
       "      <td>53.724878</td>\n",
       "      <td>30.751220</td>\n",
       "      <td>104.256158</td>\n",
       "      <td>174.049268</td>\n",
       "      <td>122.000000</td>\n",
       "      <td>5125.369458</td>\n",
       "      <td>13207.129353</td>\n",
       "      <td>3.255423</td>\n",
       "      <td>0.834146</td>\n",
       "      <td>98.756585</td>\n",
       "      <td>65.907805</td>\n",
       "    </tr>\n",
       "    <tr>\n",
       "      <th>std</th>\n",
       "      <td>0.273539</td>\n",
       "      <td>6.542142</td>\n",
       "      <td>3.972040</td>\n",
       "      <td>520.680204</td>\n",
       "      <td>41.642693</td>\n",
       "      <td>2.443522</td>\n",
       "      <td>6.886443</td>\n",
       "      <td>39.714369</td>\n",
       "      <td>12.337289</td>\n",
       "      <td>35.442168</td>\n",
       "      <td>479.334560</td>\n",
       "      <td>7947.066342</td>\n",
       "      <td>0.316717</td>\n",
       "      <td>1.245307</td>\n",
       "      <td>6.021776</td>\n",
       "      <td>2.145204</td>\n",
       "    </tr>\n",
       "    <tr>\n",
       "      <th>min</th>\n",
       "      <td>2.540000</td>\n",
       "      <td>13.000000</td>\n",
       "      <td>7.000000</td>\n",
       "      <td>1488.000000</td>\n",
       "      <td>61.000000</td>\n",
       "      <td>47.800000</td>\n",
       "      <td>16.000000</td>\n",
       "      <td>48.000000</td>\n",
       "      <td>141.100000</td>\n",
       "      <td>65.000000</td>\n",
       "      <td>4150.000000</td>\n",
       "      <td>5118.000000</td>\n",
       "      <td>2.070000</td>\n",
       "      <td>-2.000000</td>\n",
       "      <td>86.600000</td>\n",
       "      <td>60.300000</td>\n",
       "    </tr>\n",
       "    <tr>\n",
       "      <th>25%</th>\n",
       "      <td>3.150000</td>\n",
       "      <td>19.000000</td>\n",
       "      <td>8.600000</td>\n",
       "      <td>2145.000000</td>\n",
       "      <td>97.000000</td>\n",
       "      <td>52.000000</td>\n",
       "      <td>25.000000</td>\n",
       "      <td>70.000000</td>\n",
       "      <td>166.300000</td>\n",
       "      <td>94.000000</td>\n",
       "      <td>4800.000000</td>\n",
       "      <td>7775.000000</td>\n",
       "      <td>3.110000</td>\n",
       "      <td>0.000000</td>\n",
       "      <td>94.500000</td>\n",
       "      <td>64.100000</td>\n",
       "    </tr>\n",
       "    <tr>\n",
       "      <th>50%</th>\n",
       "      <td>3.310000</td>\n",
       "      <td>24.000000</td>\n",
       "      <td>9.000000</td>\n",
       "      <td>2414.000000</td>\n",
       "      <td>120.000000</td>\n",
       "      <td>54.100000</td>\n",
       "      <td>30.000000</td>\n",
       "      <td>95.000000</td>\n",
       "      <td>173.200000</td>\n",
       "      <td>115.000000</td>\n",
       "      <td>5200.000000</td>\n",
       "      <td>10295.000000</td>\n",
       "      <td>3.290000</td>\n",
       "      <td>1.000000</td>\n",
       "      <td>97.000000</td>\n",
       "      <td>65.500000</td>\n",
       "    </tr>\n",
       "    <tr>\n",
       "      <th>75%</th>\n",
       "      <td>3.590000</td>\n",
       "      <td>30.000000</td>\n",
       "      <td>9.400000</td>\n",
       "      <td>2935.000000</td>\n",
       "      <td>141.000000</td>\n",
       "      <td>55.500000</td>\n",
       "      <td>34.000000</td>\n",
       "      <td>116.000000</td>\n",
       "      <td>183.100000</td>\n",
       "      <td>150.000000</td>\n",
       "      <td>5500.000000</td>\n",
       "      <td>16500.000000</td>\n",
       "      <td>3.410000</td>\n",
       "      <td>2.000000</td>\n",
       "      <td>102.400000</td>\n",
       "      <td>66.900000</td>\n",
       "    </tr>\n",
       "    <tr>\n",
       "      <th>max</th>\n",
       "      <td>3.940000</td>\n",
       "      <td>49.000000</td>\n",
       "      <td>23.000000</td>\n",
       "      <td>4066.000000</td>\n",
       "      <td>326.000000</td>\n",
       "      <td>59.800000</td>\n",
       "      <td>54.000000</td>\n",
       "      <td>288.000000</td>\n",
       "      <td>208.100000</td>\n",
       "      <td>256.000000</td>\n",
       "      <td>6600.000000</td>\n",
       "      <td>45400.000000</td>\n",
       "      <td>4.170000</td>\n",
       "      <td>3.000000</td>\n",
       "      <td>120.900000</td>\n",
       "      <td>72.300000</td>\n",
       "    </tr>\n",
       "  </tbody>\n",
       "</table>\n",
       "</div>"
      ],
      "text/plain": [
       "             bore    city-mpg  compression-ratio  curb-weight  engine-size  \\\n",
       "count  201.000000  205.000000         205.000000   205.000000   205.000000   \n",
       "mean     3.329751   25.219512          10.142537  2555.565854   126.907317   \n",
       "std      0.273539    6.542142           3.972040   520.680204    41.642693   \n",
       "min      2.540000   13.000000           7.000000  1488.000000    61.000000   \n",
       "25%      3.150000   19.000000           8.600000  2145.000000    97.000000   \n",
       "50%      3.310000   24.000000           9.000000  2414.000000   120.000000   \n",
       "75%      3.590000   30.000000           9.400000  2935.000000   141.000000   \n",
       "max      3.940000   49.000000          23.000000  4066.000000   326.000000   \n",
       "\n",
       "           height  highway-mpg  horsepower      length  normalized-losses  \\\n",
       "count  205.000000   205.000000  203.000000  205.000000         164.000000   \n",
       "mean    53.724878    30.751220  104.256158  174.049268         122.000000   \n",
       "std      2.443522     6.886443   39.714369   12.337289          35.442168   \n",
       "min     47.800000    16.000000   48.000000  141.100000          65.000000   \n",
       "25%     52.000000    25.000000   70.000000  166.300000          94.000000   \n",
       "50%     54.100000    30.000000   95.000000  173.200000         115.000000   \n",
       "75%     55.500000    34.000000  116.000000  183.100000         150.000000   \n",
       "max     59.800000    54.000000  288.000000  208.100000         256.000000   \n",
       "\n",
       "          peak-rpm         price      stroke   symboling  wheel-base  \\\n",
       "count   203.000000    201.000000  201.000000  205.000000  205.000000   \n",
       "mean   5125.369458  13207.129353    3.255423    0.834146   98.756585   \n",
       "std     479.334560   7947.066342    0.316717    1.245307    6.021776   \n",
       "min    4150.000000   5118.000000    2.070000   -2.000000   86.600000   \n",
       "25%    4800.000000   7775.000000    3.110000    0.000000   94.500000   \n",
       "50%    5200.000000  10295.000000    3.290000    1.000000   97.000000   \n",
       "75%    5500.000000  16500.000000    3.410000    2.000000  102.400000   \n",
       "max    6600.000000  45400.000000    4.170000    3.000000  120.900000   \n",
       "\n",
       "            width  \n",
       "count  205.000000  \n",
       "mean    65.907805  \n",
       "std      2.145204  \n",
       "min     60.300000  \n",
       "25%     64.100000  \n",
       "50%     65.500000  \n",
       "75%     66.900000  \n",
       "max     72.300000  "
      ]
     },
     "execution_count": 15,
     "metadata": {},
     "output_type": "execute_result"
    }
   ],
   "source": [
    "autos.describe()"
   ]
  },
  {
   "cell_type": "markdown",
   "metadata": {},
   "source": [
    "### Split-Apply-Combine\n",
    "- Select a feature to use as key\n",
    "- Split the dataset into groups for each unique key-value\n",
    "- Apply aggregation to each group\n",
    "- Combine aggregated data into a new dataset\n",
    "\n",
    "![image](https://nicholasvadivelu.com/assets/images/posts/groupby/split-apply-combine.svg#center)"
   ]
  },
  {
   "cell_type": "markdown",
   "metadata": {},
   "source": [
    "### Group by\n",
    "Use Pandas .groupby() method to selct a key and split into groups.\n",
    "\n",
    "This creates a new DataFrameGroupBy object containing the goruped DataFrames. "
   ]
  },
  {
   "cell_type": "code",
   "execution_count": 16,
   "metadata": {},
   "outputs": [],
   "source": [
    "makes = autos.groupby(\"make\")"
   ]
  },
  {
   "cell_type": "code",
   "execution_count": 17,
   "metadata": {},
   "outputs": [
    {
     "data": {
      "text/plain": [
       "pandas.core.groupby.generic.DataFrameGroupBy"
      ]
     },
     "execution_count": 17,
     "metadata": {},
     "output_type": "execute_result"
    }
   ],
   "source": [
    "type(makes)"
   ]
  },
  {
   "cell_type": "code",
   "execution_count": 21,
   "metadata": {},
   "outputs": [
    {
     "data": {
      "text/plain": [
       "22"
      ]
     },
     "execution_count": 21,
     "metadata": {},
     "output_type": "execute_result"
    }
   ],
   "source": [
    "#autos[\"make\"].unique()\n",
    "#autos[\"make\"].nunique()\n",
    "#autos[\"make\"].value_counts()\n",
    "len(makes)"
   ]
  },
  {
   "cell_type": "code",
   "execution_count": 23,
   "metadata": {},
   "outputs": [
    {
     "data": {
      "text/html": [
       "<div>\n",
       "<style scoped>\n",
       "    .dataframe tbody tr th:only-of-type {\n",
       "        vertical-align: middle;\n",
       "    }\n",
       "\n",
       "    .dataframe tbody tr th {\n",
       "        vertical-align: top;\n",
       "    }\n",
       "\n",
       "    .dataframe thead th {\n",
       "        text-align: right;\n",
       "    }\n",
       "</style>\n",
       "<table border=\"1\" class=\"dataframe\">\n",
       "  <thead>\n",
       "    <tr style=\"text-align: right;\">\n",
       "      <th></th>\n",
       "      <th>aspiration</th>\n",
       "      <th>body-style</th>\n",
       "      <th>bore</th>\n",
       "      <th>city-mpg</th>\n",
       "      <th>compression-ratio</th>\n",
       "      <th>curb-weight</th>\n",
       "      <th>drive-wheels</th>\n",
       "      <th>engine-location</th>\n",
       "      <th>engine-size</th>\n",
       "      <th>engine-type</th>\n",
       "      <th>...</th>\n",
       "      <th>make</th>\n",
       "      <th>normalized-losses</th>\n",
       "      <th>num-of-cylinders</th>\n",
       "      <th>num-of-doors</th>\n",
       "      <th>peak-rpm</th>\n",
       "      <th>price</th>\n",
       "      <th>stroke</th>\n",
       "      <th>symboling</th>\n",
       "      <th>wheel-base</th>\n",
       "      <th>width</th>\n",
       "    </tr>\n",
       "  </thead>\n",
       "  <tbody>\n",
       "    <tr>\n",
       "      <th>47</th>\n",
       "      <td>std</td>\n",
       "      <td>sedan</td>\n",
       "      <td>3.63</td>\n",
       "      <td>15</td>\n",
       "      <td>8.1</td>\n",
       "      <td>4066</td>\n",
       "      <td>rwd</td>\n",
       "      <td>front</td>\n",
       "      <td>258</td>\n",
       "      <td>dohc</td>\n",
       "      <td>...</td>\n",
       "      <td>jaguar</td>\n",
       "      <td>145.0</td>\n",
       "      <td>six</td>\n",
       "      <td>four</td>\n",
       "      <td>4750.0</td>\n",
       "      <td>32250.0</td>\n",
       "      <td>4.17</td>\n",
       "      <td>0</td>\n",
       "      <td>113.0</td>\n",
       "      <td>69.6</td>\n",
       "    </tr>\n",
       "    <tr>\n",
       "      <th>48</th>\n",
       "      <td>std</td>\n",
       "      <td>sedan</td>\n",
       "      <td>3.63</td>\n",
       "      <td>15</td>\n",
       "      <td>8.1</td>\n",
       "      <td>4066</td>\n",
       "      <td>rwd</td>\n",
       "      <td>front</td>\n",
       "      <td>258</td>\n",
       "      <td>dohc</td>\n",
       "      <td>...</td>\n",
       "      <td>jaguar</td>\n",
       "      <td>NaN</td>\n",
       "      <td>six</td>\n",
       "      <td>four</td>\n",
       "      <td>4750.0</td>\n",
       "      <td>35550.0</td>\n",
       "      <td>4.17</td>\n",
       "      <td>0</td>\n",
       "      <td>113.0</td>\n",
       "      <td>69.6</td>\n",
       "    </tr>\n",
       "    <tr>\n",
       "      <th>49</th>\n",
       "      <td>std</td>\n",
       "      <td>sedan</td>\n",
       "      <td>3.54</td>\n",
       "      <td>13</td>\n",
       "      <td>11.5</td>\n",
       "      <td>3950</td>\n",
       "      <td>rwd</td>\n",
       "      <td>front</td>\n",
       "      <td>326</td>\n",
       "      <td>ohcv</td>\n",
       "      <td>...</td>\n",
       "      <td>jaguar</td>\n",
       "      <td>NaN</td>\n",
       "      <td>twelve</td>\n",
       "      <td>two</td>\n",
       "      <td>5000.0</td>\n",
       "      <td>36000.0</td>\n",
       "      <td>2.76</td>\n",
       "      <td>0</td>\n",
       "      <td>102.0</td>\n",
       "      <td>70.6</td>\n",
       "    </tr>\n",
       "  </tbody>\n",
       "</table>\n",
       "<p>3 rows × 26 columns</p>\n",
       "</div>"
      ],
      "text/plain": [
       "   aspiration body-style  bore  city-mpg  compression-ratio  curb-weight  \\\n",
       "47        std      sedan  3.63        15                8.1         4066   \n",
       "48        std      sedan  3.63        15                8.1         4066   \n",
       "49        std      sedan  3.54        13               11.5         3950   \n",
       "\n",
       "   drive-wheels engine-location  engine-size engine-type  ...    make  \\\n",
       "47          rwd           front          258        dohc  ...  jaguar   \n",
       "48          rwd           front          258        dohc  ...  jaguar   \n",
       "49          rwd           front          326        ohcv  ...  jaguar   \n",
       "\n",
       "   normalized-losses  num-of-cylinders  num-of-doors  peak-rpm    price  \\\n",
       "47             145.0               six          four    4750.0  32250.0   \n",
       "48               NaN               six          four    4750.0  35550.0   \n",
       "49               NaN            twelve           two    5000.0  36000.0   \n",
       "\n",
       "   stroke  symboling wheel-base width  \n",
       "47   4.17          0      113.0  69.6  \n",
       "48   4.17          0      113.0  69.6  \n",
       "49   2.76          0      102.0  70.6  \n",
       "\n",
       "[3 rows x 26 columns]"
      ]
     },
     "execution_count": 23,
     "metadata": {},
     "output_type": "execute_result"
    }
   ],
   "source": [
    "makes.groups\n",
    "autos.loc[makes.groups[\"jaguar\"]]   # - __ -\n",
    "makes.get_group(\"jaguar\")           # dessa två gör samma sak"
   ]
  }
 ],
 "metadata": {
  "kernelspec": {
   "display_name": "DataProcessing-Alexander-Wessner-tRU_N7g4",
   "language": "python",
   "name": "python3"
  },
  "language_info": {
   "codemirror_mode": {
    "name": "ipython",
    "version": 3
   },
   "file_extension": ".py",
   "mimetype": "text/x-python",
   "name": "python",
   "nbconvert_exporter": "python",
   "pygments_lexer": "ipython3",
   "version": "3.11.5"
  }
 },
 "nbformat": 4,
 "nbformat_minor": 2
}
