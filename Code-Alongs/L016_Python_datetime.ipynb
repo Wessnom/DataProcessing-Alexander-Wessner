{
 "cells": [
  {
   "cell_type": "markdown",
   "metadata": {},
   "source": [
    "## Working with date and time in python"
   ]
  },
  {
   "cell_type": "code",
   "execution_count": 1,
   "metadata": {},
   "outputs": [],
   "source": [
    "from datetime import datetime, timedelta, date, time"
   ]
  },
  {
   "cell_type": "code",
   "execution_count": 2,
   "metadata": {},
   "outputs": [
    {
     "data": {
      "text/plain": [
       "datetime.datetime"
      ]
     },
     "execution_count": 2,
     "metadata": {},
     "output_type": "execute_result"
    }
   ],
   "source": [
    "now = datetime.now()\n",
    "type(now)"
   ]
  },
  {
   "cell_type": "code",
   "execution_count": 5,
   "metadata": {},
   "outputs": [
    {
     "name": "stdout",
     "output_type": "stream",
     "text": [
      "Now is 2023-11-10 10:29:12.084354\n",
      "now = datetime.datetime(2023, 11, 10, 10, 29, 12, 84354)\n"
     ]
    }
   ],
   "source": [
    "print(f\"Now is {now}\")\n",
    "print(f\"{now = }\")"
   ]
  },
  {
   "cell_type": "code",
   "execution_count": 42,
   "metadata": {},
   "outputs": [
    {
     "name": "stdout",
     "output_type": "stream",
     "text": [
      "now.year = 2023\n",
      "now.month = 11\n",
      "now.day = 10\n",
      "now.hour = 10\n",
      "now.minute = 29\n",
      "now.second = 12\n",
      "now.microsecond = 84354\n",
      "now.weekday() = 4\n",
      "now.isoweekday() = 5\n",
      "now.isocalendar() = datetime.IsoCalendarDate(year=2023, week=45, weekday=5)\n",
      "now.isocalendar().week = 45\n"
     ]
    }
   ],
   "source": [
    "print(f\"{now.year = }\")\n",
    "print(f\"{now.month = }\")\n",
    "print(f\"{now.day = }\")\n",
    "print(f\"{now.hour = }\")\n",
    "print(f\"{now.minute = }\")\n",
    "print(f\"{now.second = }\")\n",
    "print(f\"{now.microsecond = }\")\n",
    "\n",
    "print(f\"{now.weekday() = }\") # börjar räkna på 0\n",
    "print(f\"{now.isoweekday() = }\") # börjar räkna på Monday == 1, sunday == 7\n",
    "print(f\"{now.isocalendar() = }\")\n",
    "print(f\"{now.isocalendar().week = }\")\n"
   ]
  },
  {
   "cell_type": "code",
   "execution_count": 14,
   "metadata": {},
   "outputs": [
    {
     "name": "stdout",
     "output_type": "stream",
     "text": [
      "2023-11-10\n",
      "now.strftime('%y-%m-%d') = '23-11-10'\n",
      "now.strftime('Today is a %A in %B, %Y') = 'Today is a Friday in November, 2023'\n"
     ]
    }
   ],
   "source": [
    "print(f\"{now.year}-{now.month}-{now.day}\")\n",
    "print(f\"{now.strftime('%y-%m-%d') = }\")\n",
    "print(f\"{now.strftime('Today is a %A in %B, %Y') = }\")"
   ]
  },
  {
   "cell_type": "code",
   "execution_count": 33,
   "metadata": {},
   "outputs": [
    {
     "name": "stdout",
     "output_type": "stream",
     "text": [
      "2023-12-24 00:00:00\n"
     ]
    }
   ],
   "source": [
    "christmas = datetime(2023, 12, 24)\n",
    "print(christmas)"
   ]
  },
  {
   "cell_type": "code",
   "execution_count": 35,
   "metadata": {},
   "outputs": [
    {
     "name": "stdout",
     "output_type": "stream",
     "text": [
      "2024-01-01 00:00:00\n"
     ]
    }
   ],
   "source": [
    "new_year = \"2024-01-01\"\n",
    "next_year = datetime.strptime(new_year, \"%Y-%m-%d\")\n",
    "print(next_year)"
   ]
  },
  {
   "cell_type": "code",
   "execution_count": 45,
   "metadata": {},
   "outputs": [
    {
     "name": "stdout",
     "output_type": "stream",
     "text": [
      "2023-11-10\n",
      "10:29:12.084354\n"
     ]
    }
   ],
   "source": [
    "print(now.date())\n",
    "print(now.time())"
   ]
  },
  {
   "cell_type": "markdown",
   "metadata": {},
   "source": [
    "### Timedelta"
   ]
  },
  {
   "cell_type": "code",
   "execution_count": null,
   "metadata": {},
   "outputs": [],
   "source": []
  }
 ],
 "metadata": {
  "kernelspec": {
   "display_name": "DataProcessing-Alexander-Wessner-OMx1F4u9",
   "language": "python",
   "name": "python3"
  },
  "language_info": {
   "codemirror_mode": {
    "name": "ipython",
    "version": 3
   },
   "file_extension": ".py",
   "mimetype": "text/x-python",
   "name": "python",
   "nbconvert_exporter": "python",
   "pygments_lexer": "ipython3",
   "version": "3.11.5"
  }
 },
 "nbformat": 4,
 "nbformat_minor": 2
}
