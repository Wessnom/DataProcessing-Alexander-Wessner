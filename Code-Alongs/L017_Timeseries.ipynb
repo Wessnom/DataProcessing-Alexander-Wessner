{
 "cells": [
  {
   "cell_type": "markdown",
   "metadata": {},
   "source": [
    "## Pandas time series\n",
    "A series or dataframe using a datetime index instead of a range index.\n",
    "\n",
    "Used for storing events/data that fits on a timeline.\n",
    "- Weather data.\n",
    "- Temperature readings.\n",
    "- Heart rate monitoring (EKG). \n",
    "- Quarterly sales.\n",
    "- Stock prices.\n",
    "- Many more..."
   ]
  },
  {
   "cell_type": "code",
   "execution_count": null,
   "metadata": {},
   "outputs": [],
   "source": [
    "import pandas as pd\n",
    "import numpy as np"
   ]
  },
  {
   "cell_type": "markdown",
   "metadata": {},
   "source": [
    "### Creating a datetimeindex\n",
    "Use date_range() with 3 of the 4 parameters:\n",
    "- start\n",
    "- end\n",
    "- periods\n",
    "- freq: freq tar olika koder, \"d\" för dagar \"w\", \"2D3H\" (2dagar 3H för varje) för veckor osv (kolla **OFFSET-aliases** i dokumentation)"
   ]
  },
  {
   "cell_type": "code",
   "execution_count": null,
   "metadata": {},
   "outputs": [],
   "source": [
    "datetimeindex = pd.date_range(start='2018-01-01', freq=\"D\", periods=10)\n",
    "print(type(datetimeindex))\n",
    "datetimeindex"
   ]
  }
 ],
 "metadata": {
  "language_info": {
   "name": "python"
  }
 },
 "nbformat": 4,
 "nbformat_minor": 2
}
