{
 "cells": [
  {
   "cell_type": "code",
   "execution_count": 27,
   "metadata": {},
   "outputs": [
    {
     "name": "stdout",
     "output_type": "stream",
     "text": [
      "Dash app running on http://127.0.0.1:8050/\n"
     ]
    }
   ],
   "source": [
    "from dash import Dash, html, dcc, callback, Output, Input\n",
    "import dash_bootstrap_components as dbc\n",
    "\n",
    "app = Dash(__name__, external_stylesheets=[dbc.themes.QUARTZ])\n",
    "\n",
    "app.layout = dbc.Container([\n",
    "#    \"Hello bootstrap!\",\n",
    "#     dbc.Button(\"Click here!\", color=\"info\", className=\"ms-2 mt-1 text-uppercase\")\n",
    "\n",
    "        dbc.Row([\n",
    "            dbc.Col(\n",
    "                children=dbc.Input(type=\"text\", placeholder=\"First name:\"),\n",
    "                className= \"mt-2\",\n",
    "                width={\"size\": 3, \"offset\": 0}\n",
    "            ),\n",
    "            dbc.Col(\n",
    "                children=[\n",
    "                    dbc.Input(type=\"text\", placeholder=\"Last name:\"),\n",
    "                    dbc.Input(type=\"text\", placeholder=\"Last name:\", className= \"mt-2\",),\n",
    "                    dbc.Input(type=\"text\", placeholder=\"Last name:\", className= \"mt-2\",),\n",
    "                ],\n",
    "                className= \"mt-2\",\n",
    "                width={\"size\": 3, \"offset\": 0}\n",
    "            ),\n",
    "            dbc.Col(\n",
    "                children=dbc.Input(type=\"text\", placeholder=\"Email:\"),\n",
    "                className= \"mt-2\",\n",
    "                width={\"size\": 6, \"offset\": 0}\n",
    "            ),\n",
    "        ], justify=\"evenly\"),\n",
    "\n",
    "        dbc.Row([\n",
    "            dbc.Col(\n",
    "                children=dbc.Input(type=\"text\", placeholder=\"Dropdown:\"),\n",
    "                className= \"mt-2\",\n",
    "                width={\"size\": 6, \"offset\": 0}\n",
    "            ),\n",
    "            dbc.Col(\n",
    "                children=dbc.Input(type=\"text\", placeholder=\"Graphical elements:\"),\n",
    "                className= \"mt-2\",\n",
    "                width={\"size\": 6, \"offset\": 0}\n",
    "            ),\n",
    "        ], justify=\"between\"),\n",
    "])\n",
    "\n",
    "app.run(debug=True, jupyter_mode=\"external\") "
   ]
  },
  {
   "cell_type": "markdown",
   "metadata": {},
   "source": [
    "Man kan säga att hela sidan är uppdelad i 12 kolumner.\n",
    "\n",
    "Så att i dbc.Col klassen när man jobbar med widths=\"x\" kan man som mest ta upp 12 space per rad\n",
    "\n",
    "justify=\"end\" inuti dbc.Row klassen kan ändra vilket håll kolumnerna ska aligna. =\"start\" för vänster =\"end\" för höger <br>\n",
    "justify bestämmer vad som ska göras med resterande utrymme\n",
    "- \"start\", \"end\", \"center\", \"around\", \"between\", \"evenly\" m.fl"
   ]
  },
  {
   "cell_type": "markdown",
   "metadata": {},
   "source": [
    "``` text \n",
    "from dash import Dash, html, dcc, callback, Output, Input\n",
    "import dash_bootstrap_components as dbc\n",
    "\n",
    "app = Dash(__name__, external_stylesheets=[dbc.themes.QUARTZ])\n",
    "\n",
    "app.layout = html.Div(\"Hello world\") // eller = dbc.Container(\"Hello bootstrap!\") // när man jobbar med bootstrap\n",
    "\n",
    "app.run(debug=True, jupyter_mode=\"external\")\n",
    "\n",
    "---\n",
    "Dash app running on http://127.0.0.1:8050/\n",
    "\n",
    "```"
   ]
  }
 ],
 "metadata": {
  "kernelspec": {
   "display_name": "DataProcessing-Alexander-Wessner-OMx1F4u9",
   "language": "python",
   "name": "python3"
  },
  "language_info": {
   "codemirror_mode": {
    "name": "ipython",
    "version": 3
   },
   "file_extension": ".py",
   "mimetype": "text/x-python",
   "name": "python",
   "nbconvert_exporter": "python",
   "pygments_lexer": "ipython3",
   "version": "3.11.5"
  }
 },
 "nbformat": 4,
 "nbformat_minor": 2
}
