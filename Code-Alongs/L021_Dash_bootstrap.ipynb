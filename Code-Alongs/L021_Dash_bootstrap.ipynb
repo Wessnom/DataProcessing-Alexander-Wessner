{
 "cells": [
  {
   "cell_type": "code",
   "execution_count": 24,
   "metadata": {},
   "outputs": [
    {
     "name": "stdout",
     "output_type": "stream",
     "text": [
      "Dash app running on http://127.0.0.1:8050/\n"
     ]
    }
   ],
   "source": [
    "from dash import Dash, html, dcc, callback, Output, Input\n",
    "import dash_bootstrap_components as dbc\n",
    "\n",
    "app = Dash(__name__, external_stylesheets=[dbc.themes.QUARTZ])\n",
    "\n",
    "app.layout = dbc.Container([\n",
    "    \"Hello bootstrap!\",\n",
    "     dbc.Button(\"Click here!\", color=\"info\", className=\"ms-2 mt-1 text-uppercase\")\n",
    "])\n",
    "\n",
    "app.run(debug=True, jupyter_mode=\"external\") "
   ]
  },
  {
   "cell_type": "markdown",
   "metadata": {},
   "source": [
    "``` text \n",
    "from dash import Dash, html, dcc, callback, Output, Input\n",
    "import dash_bootstrap_components as dbc\n",
    "\n",
    "app = Dash(__name__, external_stylesheets=[dbc.themes.QUARTZ])\n",
    "\n",
    "app.layout = html.Div(\"Hello world\") // eller = dbc.Container(\"Hello bootstrap!\") // när man jobbar med bootstrap\n",
    "\n",
    "app.run(debug=True, jupyter_mode=\"external\")\n",
    "\n",
    "---\n",
    "Dash app running on http://127.0.0.1:8050/\n",
    "\n",
    "```"
   ]
  }
 ],
 "metadata": {
  "kernelspec": {
   "display_name": "DataProcessing-Alexander-Wessner-OMx1F4u9",
   "language": "python",
   "name": "python3"
  },
  "language_info": {
   "codemirror_mode": {
    "name": "ipython",
    "version": 3
   },
   "file_extension": ".py",
   "mimetype": "text/x-python",
   "name": "python",
   "nbconvert_exporter": "python",
   "pygments_lexer": "ipython3",
   "version": "3.11.5"
  }
 },
 "nbformat": 4,
 "nbformat_minor": 2
}
